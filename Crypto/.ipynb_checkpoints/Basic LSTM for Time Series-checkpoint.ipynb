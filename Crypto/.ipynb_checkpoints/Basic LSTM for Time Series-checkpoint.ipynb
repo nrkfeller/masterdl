{
 "cells": [
  {
   "cell_type": "markdown",
   "metadata": {},
   "source": [
    "https://machinelearningmastery.com/time-series-prediction-lstm-recurrent-neural-networks-python-keras/"
   ]
  },
  {
   "cell_type": "code",
   "execution_count": 54,
   "metadata": {},
   "outputs": [],
   "source": [
    "import pandas as pd\n",
    "import matplotlib.pyplot as plt\n",
    "from mpld3 import display\n",
    "\n",
    "import numpy as np\n",
    "import math\n",
    "\n",
    "from keras.models import Sequential\n",
    "from keras.layers import Dense, Activation, Dropout\n",
    "from keras.layers import LSTM\n",
    "\n",
    "from sklearn.preprocessing import MinMaxScaler\n",
    "from sklearn.metrics import mean_squared_error\n",
    "\n",
    "plt.style.use('ggplot')\n",
    "%matplotlib inline"
   ]
  },
  {
   "cell_type": "code",
   "execution_count": 55,
   "metadata": {},
   "outputs": [
    {
     "data": {
      "text/html": [
       "<div>\n",
       "<table border=\"1\" class=\"dataframe\">\n",
       "  <thead>\n",
       "    <tr style=\"text-align: right;\">\n",
       "      <th></th>\n",
       "      <th>International airline passengers: monthly totals in thousands. Jan 49 ? Dec 60</th>\n",
       "    </tr>\n",
       "  </thead>\n",
       "  <tbody>\n",
       "    <tr>\n",
       "      <th>0</th>\n",
       "      <td>112</td>\n",
       "    </tr>\n",
       "    <tr>\n",
       "      <th>1</th>\n",
       "      <td>118</td>\n",
       "    </tr>\n",
       "    <tr>\n",
       "      <th>2</th>\n",
       "      <td>132</td>\n",
       "    </tr>\n",
       "    <tr>\n",
       "      <th>3</th>\n",
       "      <td>129</td>\n",
       "    </tr>\n",
       "    <tr>\n",
       "      <th>4</th>\n",
       "      <td>121</td>\n",
       "    </tr>\n",
       "  </tbody>\n",
       "</table>\n",
       "</div>"
      ],
      "text/plain": [
       "   International airline passengers: monthly totals in thousands. Jan 49 ? Dec 60\n",
       "0                                                112                             \n",
       "1                                                118                             \n",
       "2                                                132                             \n",
       "3                                                129                             \n",
       "4                                                121                             "
      ]
     },
     "execution_count": 55,
     "metadata": {},
     "output_type": "execute_result"
    }
   ],
   "source": [
    "ds = pd.read_csv('international-airline-passengers.csv', usecols=[1], engine='python', skipfooter=3)\n",
    "ds.head()"
   ]
  },
  {
   "cell_type": "code",
   "execution_count": 1,
   "metadata": {},
   "outputs": [
    {
     "data": {
      "text/html": [
       "\n",
       "\n",
       "<style>\n",
       "\n",
       "</style>\n",
       "\n",
       "<div id=\"fig_el3817345694172082671934868\"></div>\n",
       "<script>\n",
       "function mpld3_load_lib(url, callback){\n",
       "  var s = document.createElement('script');\n",
       "  s.src = url;\n",
       "  s.async = true;\n",
       "  s.onreadystatechange = s.onload = callback;\n",
       "  s.onerror = function(){console.warn(\"failed to load library \" + url);};\n",
       "  document.getElementsByTagName(\"head\")[0].appendChild(s);\n",
       "}\n",
       "\n",
       "if(typeof(mpld3) !== \"undefined\" && mpld3._mpld3IsLoaded){\n",
       "   // already loaded: just create the figure\n",
       "   !function(mpld3){\n",
       "       \n",
       "       mpld3.draw_figure(\"fig_el3817345694172082671934868\", {\"width\": 432.0, \"axes\": [{\"zoomable\": true, \"ylim\": [78.1, 647.9], \"sharex\": [], \"ydomain\": [78.1, 647.9], \"collections\": [], \"axes\": [{\"visible\": true, \"grid\": {\"alpha\": 1.0, \"color\": \"#FFFFFF\", \"dasharray\": \"none\", \"gridOn\": true}, \"tickformat\": null, \"nticks\": 10, \"position\": \"bottom\", \"tickvalues\": null, \"fontsize\": 10.0, \"scale\": \"linear\"}, {\"visible\": true, \"grid\": {\"alpha\": 1.0, \"color\": \"#FFFFFF\", \"dasharray\": \"none\", \"gridOn\": true}, \"tickformat\": null, \"nticks\": 8, \"position\": \"left\", \"tickvalues\": null, \"fontsize\": 10.0, \"scale\": \"linear\"}], \"bbox\": [0.125, 0.125, 0.775, 0.755], \"sharey\": [], \"markers\": [], \"xdomain\": [-7.15, 150.15], \"images\": [], \"xlim\": [-7.15, 150.15], \"axesbg\": \"#E5E5E5\", \"lines\": [{\"drawstyle\": \"default\", \"alpha\": 1, \"coordinates\": \"data\", \"yindex\": 1, \"zorder\": 2, \"id\": \"el381734702109936\", \"data\": \"data01\", \"color\": \"#E24A33\", \"xindex\": 0, \"dasharray\": \"none\", \"linewidth\": 1.5}], \"id\": \"el381734701563200\", \"axesbgalpha\": null, \"yscale\": \"linear\", \"texts\": [], \"xscale\": \"linear\", \"paths\": []}], \"height\": 288.0, \"id\": \"el381734569417208\", \"data\": {\"data01\": [[0.0, 112.0], [1.0, 118.0], [2.0, 132.0], [3.0, 129.0], [4.0, 121.0], [5.0, 135.0], [6.0, 148.0], [7.0, 148.0], [8.0, 136.0], [9.0, 119.0], [10.0, 104.0], [11.0, 118.0], [12.0, 115.0], [13.0, 126.0], [14.0, 141.0], [15.0, 135.0], [16.0, 125.0], [17.0, 149.0], [18.0, 170.0], [19.0, 170.0], [20.0, 158.0], [21.0, 133.0], [22.0, 114.0], [23.0, 140.0], [24.0, 145.0], [25.0, 150.0], [26.0, 178.0], [27.0, 163.0], [28.0, 172.0], [29.0, 178.0], [30.0, 199.0], [31.0, 199.0], [32.0, 184.0], [33.0, 162.0], [34.0, 146.0], [35.0, 166.0], [36.0, 171.0], [37.0, 180.0], [38.0, 193.0], [39.0, 181.0], [40.0, 183.0], [41.0, 218.0], [42.0, 230.0], [43.0, 242.0], [44.0, 209.0], [45.0, 191.0], [46.0, 172.0], [47.0, 194.0], [48.0, 196.0], [49.0, 196.0], [50.0, 236.0], [51.0, 235.0], [52.0, 229.0], [53.0, 243.0], [54.0, 264.0], [55.0, 272.0], [56.0, 237.0], [57.0, 211.0], [58.0, 180.0], [59.0, 201.0], [60.0, 204.0], [61.0, 188.0], [62.0, 235.0], [63.0, 227.0], [64.0, 234.0], [65.0, 264.0], [66.0, 302.0], [67.0, 293.0], [68.0, 259.0], [69.0, 229.0], [70.0, 203.0], [71.0, 229.0], [72.0, 242.0], [73.0, 233.0], [74.0, 267.0], [75.0, 269.0], [76.0, 270.0], [77.0, 315.0], [78.0, 364.0], [79.0, 347.0], [80.0, 312.0], [81.0, 274.0], [82.0, 237.0], [83.0, 278.0], [84.0, 284.0], [85.0, 277.0], [86.0, 317.0], [87.0, 313.0], [88.0, 318.0], [89.0, 374.0], [90.0, 413.0], [91.0, 405.0], [92.0, 355.0], [93.0, 306.0], [94.0, 271.0], [95.0, 306.0], [96.0, 315.0], [97.0, 301.0], [98.0, 356.0], [99.0, 348.0], [100.0, 355.0], [101.0, 422.0], [102.0, 465.0], [103.0, 467.0], [104.0, 404.0], [105.0, 347.0], [106.0, 305.0], [107.0, 336.0], [108.0, 340.0], [109.0, 318.0], [110.0, 362.0], [111.0, 348.0], [112.0, 363.0], [113.0, 435.0], [114.0, 491.0], [115.0, 505.0], [116.0, 404.0], [117.0, 359.0], [118.0, 310.0], [119.0, 337.0], [120.0, 360.0], [121.0, 342.0], [122.0, 406.0], [123.0, 396.0], [124.0, 420.0], [125.0, 472.0], [126.0, 548.0], [127.0, 559.0], [128.0, 463.0], [129.0, 407.0], [130.0, 362.0], [131.0, 405.0], [132.0, 417.0], [133.0, 391.0], [134.0, 419.0], [135.0, 461.0], [136.0, 472.0], [137.0, 535.0], [138.0, 622.0], [139.0, 606.0], [140.0, 508.0], [141.0, 461.0], [142.0, 390.0], [143.0, 432.0]]}, \"plugins\": [{\"type\": \"reset\"}, {\"enabled\": false, \"type\": \"zoom\", \"button\": true}, {\"enabled\": false, \"type\": \"boxzoom\", \"button\": true}]});\n",
       "   }(mpld3);\n",
       "}else if(typeof define === \"function\" && define.amd){\n",
       "   // require.js is available: use it to load d3/mpld3\n",
       "   require.config({paths: {d3: \"https://mpld3.github.io/js/d3.v3.min\"}});\n",
       "   require([\"d3\"], function(d3){\n",
       "      window.d3 = d3;\n",
       "      mpld3_load_lib(\"https://mpld3.github.io/js/mpld3.v0.3.js\", function(){\n",
       "         \n",
       "         mpld3.draw_figure(\"fig_el3817345694172082671934868\", {\"width\": 432.0, \"axes\": [{\"zoomable\": true, \"ylim\": [78.1, 647.9], \"sharex\": [], \"ydomain\": [78.1, 647.9], \"collections\": [], \"axes\": [{\"visible\": true, \"grid\": {\"alpha\": 1.0, \"color\": \"#FFFFFF\", \"dasharray\": \"none\", \"gridOn\": true}, \"tickformat\": null, \"nticks\": 10, \"position\": \"bottom\", \"tickvalues\": null, \"fontsize\": 10.0, \"scale\": \"linear\"}, {\"visible\": true, \"grid\": {\"alpha\": 1.0, \"color\": \"#FFFFFF\", \"dasharray\": \"none\", \"gridOn\": true}, \"tickformat\": null, \"nticks\": 8, \"position\": \"left\", \"tickvalues\": null, \"fontsize\": 10.0, \"scale\": \"linear\"}], \"bbox\": [0.125, 0.125, 0.775, 0.755], \"sharey\": [], \"markers\": [], \"xdomain\": [-7.15, 150.15], \"images\": [], \"xlim\": [-7.15, 150.15], \"axesbg\": \"#E5E5E5\", \"lines\": [{\"drawstyle\": \"default\", \"alpha\": 1, \"coordinates\": \"data\", \"yindex\": 1, \"zorder\": 2, \"id\": \"el381734702109936\", \"data\": \"data01\", \"color\": \"#E24A33\", \"xindex\": 0, \"dasharray\": \"none\", \"linewidth\": 1.5}], \"id\": \"el381734701563200\", \"axesbgalpha\": null, \"yscale\": \"linear\", \"texts\": [], \"xscale\": \"linear\", \"paths\": []}], \"height\": 288.0, \"id\": \"el381734569417208\", \"data\": {\"data01\": [[0.0, 112.0], [1.0, 118.0], [2.0, 132.0], [3.0, 129.0], [4.0, 121.0], [5.0, 135.0], [6.0, 148.0], [7.0, 148.0], [8.0, 136.0], [9.0, 119.0], [10.0, 104.0], [11.0, 118.0], [12.0, 115.0], [13.0, 126.0], [14.0, 141.0], [15.0, 135.0], [16.0, 125.0], [17.0, 149.0], [18.0, 170.0], [19.0, 170.0], [20.0, 158.0], [21.0, 133.0], [22.0, 114.0], [23.0, 140.0], [24.0, 145.0], [25.0, 150.0], [26.0, 178.0], [27.0, 163.0], [28.0, 172.0], [29.0, 178.0], [30.0, 199.0], [31.0, 199.0], [32.0, 184.0], [33.0, 162.0], [34.0, 146.0], [35.0, 166.0], [36.0, 171.0], [37.0, 180.0], [38.0, 193.0], [39.0, 181.0], [40.0, 183.0], [41.0, 218.0], [42.0, 230.0], [43.0, 242.0], [44.0, 209.0], [45.0, 191.0], [46.0, 172.0], [47.0, 194.0], [48.0, 196.0], [49.0, 196.0], [50.0, 236.0], [51.0, 235.0], [52.0, 229.0], [53.0, 243.0], [54.0, 264.0], [55.0, 272.0], [56.0, 237.0], [57.0, 211.0], [58.0, 180.0], [59.0, 201.0], [60.0, 204.0], [61.0, 188.0], [62.0, 235.0], [63.0, 227.0], [64.0, 234.0], [65.0, 264.0], [66.0, 302.0], [67.0, 293.0], [68.0, 259.0], [69.0, 229.0], [70.0, 203.0], [71.0, 229.0], [72.0, 242.0], [73.0, 233.0], [74.0, 267.0], [75.0, 269.0], [76.0, 270.0], [77.0, 315.0], [78.0, 364.0], [79.0, 347.0], [80.0, 312.0], [81.0, 274.0], [82.0, 237.0], [83.0, 278.0], [84.0, 284.0], [85.0, 277.0], [86.0, 317.0], [87.0, 313.0], [88.0, 318.0], [89.0, 374.0], [90.0, 413.0], [91.0, 405.0], [92.0, 355.0], [93.0, 306.0], [94.0, 271.0], [95.0, 306.0], [96.0, 315.0], [97.0, 301.0], [98.0, 356.0], [99.0, 348.0], [100.0, 355.0], [101.0, 422.0], [102.0, 465.0], [103.0, 467.0], [104.0, 404.0], [105.0, 347.0], [106.0, 305.0], [107.0, 336.0], [108.0, 340.0], [109.0, 318.0], [110.0, 362.0], [111.0, 348.0], [112.0, 363.0], [113.0, 435.0], [114.0, 491.0], [115.0, 505.0], [116.0, 404.0], [117.0, 359.0], [118.0, 310.0], [119.0, 337.0], [120.0, 360.0], [121.0, 342.0], [122.0, 406.0], [123.0, 396.0], [124.0, 420.0], [125.0, 472.0], [126.0, 548.0], [127.0, 559.0], [128.0, 463.0], [129.0, 407.0], [130.0, 362.0], [131.0, 405.0], [132.0, 417.0], [133.0, 391.0], [134.0, 419.0], [135.0, 461.0], [136.0, 472.0], [137.0, 535.0], [138.0, 622.0], [139.0, 606.0], [140.0, 508.0], [141.0, 461.0], [142.0, 390.0], [143.0, 432.0]]}, \"plugins\": [{\"type\": \"reset\"}, {\"enabled\": false, \"type\": \"zoom\", \"button\": true}, {\"enabled\": false, \"type\": \"boxzoom\", \"button\": true}]});\n",
       "      });\n",
       "    });\n",
       "}else{\n",
       "    // require.js not available: dynamically load d3 & mpld3\n",
       "    mpld3_load_lib(\"https://mpld3.github.io/js/d3.v3.min.js\", function(){\n",
       "         mpld3_load_lib(\"https://mpld3.github.io/js/mpld3.v0.3.js\", function(){\n",
       "                 \n",
       "                 mpld3.draw_figure(\"fig_el3817345694172082671934868\", {\"width\": 432.0, \"axes\": [{\"zoomable\": true, \"ylim\": [78.1, 647.9], \"sharex\": [], \"ydomain\": [78.1, 647.9], \"collections\": [], \"axes\": [{\"visible\": true, \"grid\": {\"alpha\": 1.0, \"color\": \"#FFFFFF\", \"dasharray\": \"none\", \"gridOn\": true}, \"tickformat\": null, \"nticks\": 10, \"position\": \"bottom\", \"tickvalues\": null, \"fontsize\": 10.0, \"scale\": \"linear\"}, {\"visible\": true, \"grid\": {\"alpha\": 1.0, \"color\": \"#FFFFFF\", \"dasharray\": \"none\", \"gridOn\": true}, \"tickformat\": null, \"nticks\": 8, \"position\": \"left\", \"tickvalues\": null, \"fontsize\": 10.0, \"scale\": \"linear\"}], \"bbox\": [0.125, 0.125, 0.775, 0.755], \"sharey\": [], \"markers\": [], \"xdomain\": [-7.15, 150.15], \"images\": [], \"xlim\": [-7.15, 150.15], \"axesbg\": \"#E5E5E5\", \"lines\": [{\"drawstyle\": \"default\", \"alpha\": 1, \"coordinates\": \"data\", \"yindex\": 1, \"zorder\": 2, \"id\": \"el381734702109936\", \"data\": \"data01\", \"color\": \"#E24A33\", \"xindex\": 0, \"dasharray\": \"none\", \"linewidth\": 1.5}], \"id\": \"el381734701563200\", \"axesbgalpha\": null, \"yscale\": \"linear\", \"texts\": [], \"xscale\": \"linear\", \"paths\": []}], \"height\": 288.0, \"id\": \"el381734569417208\", \"data\": {\"data01\": [[0.0, 112.0], [1.0, 118.0], [2.0, 132.0], [3.0, 129.0], [4.0, 121.0], [5.0, 135.0], [6.0, 148.0], [7.0, 148.0], [8.0, 136.0], [9.0, 119.0], [10.0, 104.0], [11.0, 118.0], [12.0, 115.0], [13.0, 126.0], [14.0, 141.0], [15.0, 135.0], [16.0, 125.0], [17.0, 149.0], [18.0, 170.0], [19.0, 170.0], [20.0, 158.0], [21.0, 133.0], [22.0, 114.0], [23.0, 140.0], [24.0, 145.0], [25.0, 150.0], [26.0, 178.0], [27.0, 163.0], [28.0, 172.0], [29.0, 178.0], [30.0, 199.0], [31.0, 199.0], [32.0, 184.0], [33.0, 162.0], [34.0, 146.0], [35.0, 166.0], [36.0, 171.0], [37.0, 180.0], [38.0, 193.0], [39.0, 181.0], [40.0, 183.0], [41.0, 218.0], [42.0, 230.0], [43.0, 242.0], [44.0, 209.0], [45.0, 191.0], [46.0, 172.0], [47.0, 194.0], [48.0, 196.0], [49.0, 196.0], [50.0, 236.0], [51.0, 235.0], [52.0, 229.0], [53.0, 243.0], [54.0, 264.0], [55.0, 272.0], [56.0, 237.0], [57.0, 211.0], [58.0, 180.0], [59.0, 201.0], [60.0, 204.0], [61.0, 188.0], [62.0, 235.0], [63.0, 227.0], [64.0, 234.0], [65.0, 264.0], [66.0, 302.0], [67.0, 293.0], [68.0, 259.0], [69.0, 229.0], [70.0, 203.0], [71.0, 229.0], [72.0, 242.0], [73.0, 233.0], [74.0, 267.0], [75.0, 269.0], [76.0, 270.0], [77.0, 315.0], [78.0, 364.0], [79.0, 347.0], [80.0, 312.0], [81.0, 274.0], [82.0, 237.0], [83.0, 278.0], [84.0, 284.0], [85.0, 277.0], [86.0, 317.0], [87.0, 313.0], [88.0, 318.0], [89.0, 374.0], [90.0, 413.0], [91.0, 405.0], [92.0, 355.0], [93.0, 306.0], [94.0, 271.0], [95.0, 306.0], [96.0, 315.0], [97.0, 301.0], [98.0, 356.0], [99.0, 348.0], [100.0, 355.0], [101.0, 422.0], [102.0, 465.0], [103.0, 467.0], [104.0, 404.0], [105.0, 347.0], [106.0, 305.0], [107.0, 336.0], [108.0, 340.0], [109.0, 318.0], [110.0, 362.0], [111.0, 348.0], [112.0, 363.0], [113.0, 435.0], [114.0, 491.0], [115.0, 505.0], [116.0, 404.0], [117.0, 359.0], [118.0, 310.0], [119.0, 337.0], [120.0, 360.0], [121.0, 342.0], [122.0, 406.0], [123.0, 396.0], [124.0, 420.0], [125.0, 472.0], [126.0, 548.0], [127.0, 559.0], [128.0, 463.0], [129.0, 407.0], [130.0, 362.0], [131.0, 405.0], [132.0, 417.0], [133.0, 391.0], [134.0, 419.0], [135.0, 461.0], [136.0, 472.0], [137.0, 535.0], [138.0, 622.0], [139.0, 606.0], [140.0, 508.0], [141.0, 461.0], [142.0, 390.0], [143.0, 432.0]]}, \"plugins\": [{\"type\": \"reset\"}, {\"enabled\": false, \"type\": \"zoom\", \"button\": true}, {\"enabled\": false, \"type\": \"boxzoom\", \"button\": true}]});\n",
       "            })\n",
       "         });\n",
       "}\n",
       "</script>"
      ],
      "text/plain": [
       "<IPython.core.display.HTML object>"
      ]
     },
     "execution_count": 1,
     "metadata": {},
     "output_type": "execute_result"
    }
   ],
   "source": [
    "fig, ax = plt.subplots()\n",
    "ax.plot(ds)\n",
    "display(fig)"
   ]
  },
  {
   "cell_type": "code",
   "execution_count": 57,
   "metadata": {},
   "outputs": [],
   "source": [
    "np.random.seed(7)"
   ]
  },
  {
   "cell_type": "code",
   "execution_count": 58,
   "metadata": {},
   "outputs": [],
   "source": [
    "ds = np.array(ds.values)\n",
    "ds = ds.astype('float32')"
   ]
  },
  {
   "cell_type": "code",
   "execution_count": 59,
   "metadata": {},
   "outputs": [
    {
     "data": {
      "text/plain": [
       "MinMaxScaler(copy=True, feature_range=(0, 1))"
      ]
     },
     "execution_count": 59,
     "metadata": {},
     "output_type": "execute_result"
    }
   ],
   "source": [
    "scaler = MinMaxScaler(feature_range=(0,1))\n",
    "scaler"
   ]
  },
  {
   "cell_type": "code",
   "execution_count": 60,
   "metadata": {},
   "outputs": [
    {
     "data": {
      "text/plain": [
       "array([[ 0.01544401],\n",
       "       [ 0.02702703],\n",
       "       [ 0.05405405],\n",
       "       [ 0.04826255],\n",
       "       [ 0.03281853],\n",
       "       [ 0.05984557],\n",
       "       [ 0.08494207],\n",
       "       [ 0.08494207],\n",
       "       [ 0.06177607],\n",
       "       [ 0.02895753]], dtype=float32)"
      ]
     },
     "execution_count": 60,
     "metadata": {},
     "output_type": "execute_result"
    }
   ],
   "source": [
    "ds = scaler.fit_transform(ds)\n",
    "ds[:10]"
   ]
  },
  {
   "cell_type": "code",
   "execution_count": 61,
   "metadata": {},
   "outputs": [
    {
     "data": {
      "text/plain": [
       "(144, 96, 48)"
      ]
     },
     "execution_count": 61,
     "metadata": {},
     "output_type": "execute_result"
    }
   ],
   "source": [
    "train_size = int(len(ds) * 0.67)\n",
    "test_size = len(ds) - train_size\n",
    "train, test = ds[:train_size], ds[train_size:]\n",
    "len(ds), len(train), len(test)"
   ]
  },
  {
   "cell_type": "code",
   "execution_count": 62,
   "metadata": {},
   "outputs": [],
   "source": [
    "def create_dataset(dataset, lookback=1):\n",
    "    dataX, dataY = [], []\n",
    "    for i in range(0, len(dataset) - lookback):\n",
    "        dataY.append(dataset[i+lookback, 0])\n",
    "        dataX.append(dataset[i])\n",
    "    return np.array(dataX), np.array(dataY)"
   ]
  },
  {
   "cell_type": "code",
   "execution_count": 63,
   "metadata": {},
   "outputs": [],
   "source": [
    "look_back = 1\n",
    "trainX, trainY = create_dataset(train, look_back)\n",
    "testX, testY = create_dataset(test, look_back)"
   ]
  },
  {
   "cell_type": "code",
   "execution_count": 64,
   "metadata": {},
   "outputs": [],
   "source": [
    "trainX = np.reshape(trainX, (trainX.shape[0], 1, trainX.shape[1]))\n",
    "testX = np.reshape(testX, (testX.shape[0], 1, testX.shape[1]))"
   ]
  },
  {
   "cell_type": "code",
   "execution_count": 65,
   "metadata": {},
   "outputs": [
    {
     "data": {
      "text/plain": [
       "((95, 1, 1), (95,))"
      ]
     },
     "execution_count": 65,
     "metadata": {},
     "output_type": "execute_result"
    }
   ],
   "source": [
    "trainX.shape, trainY.shape"
   ]
  },
  {
   "cell_type": "code",
   "execution_count": 67,
   "metadata": {},
   "outputs": [
    {
     "name": "stdout",
     "output_type": "stream",
     "text": [
      "Epoch 1/27\n",
      "1s - loss: 0.0420\n",
      "Epoch 2/27\n",
      "0s - loss: 0.0194\n",
      "Epoch 3/27\n",
      "0s - loss: 0.0155\n",
      "Epoch 4/27\n",
      "0s - loss: 0.0129\n",
      "Epoch 5/27\n",
      "0s - loss: 0.0130\n",
      "Epoch 6/27\n",
      "0s - loss: 0.0133\n",
      "Epoch 7/27\n",
      "0s - loss: 0.0117\n",
      "Epoch 8/27\n",
      "0s - loss: 0.0093\n",
      "Epoch 9/27\n",
      "0s - loss: 0.0118\n",
      "Epoch 10/27\n",
      "0s - loss: 0.0132\n",
      "Epoch 11/27\n",
      "0s - loss: 0.0118\n",
      "Epoch 12/27\n",
      "0s - loss: 0.0087\n",
      "Epoch 13/27\n",
      "0s - loss: 0.0080\n",
      "Epoch 14/27\n",
      "0s - loss: 0.0121\n",
      "Epoch 15/27\n",
      "0s - loss: 0.0096\n",
      "Epoch 16/27\n",
      "0s - loss: 0.0077\n",
      "Epoch 17/27\n",
      "0s - loss: 0.0087\n",
      "Epoch 18/27\n",
      "0s - loss: 0.0090\n",
      "Epoch 19/27\n",
      "0s - loss: 0.0086\n",
      "Epoch 20/27\n",
      "0s - loss: 0.0103\n",
      "Epoch 21/27\n",
      "0s - loss: 0.0091\n",
      "Epoch 22/27\n",
      "0s - loss: 0.0087\n",
      "Epoch 23/27\n",
      "0s - loss: 0.0069\n",
      "Epoch 24/27\n",
      "0s - loss: 0.0098\n",
      "Epoch 25/27\n",
      "0s - loss: 0.0069\n",
      "Epoch 26/27\n",
      "0s - loss: 0.0110\n",
      "Epoch 27/27\n",
      "0s - loss: 0.0133\n"
     ]
    },
    {
     "data": {
      "text/plain": [
       "<keras.callbacks.History at 0x12286c780>"
      ]
     },
     "execution_count": 67,
     "metadata": {},
     "output_type": "execute_result"
    }
   ],
   "source": [
    "model = Sequential()\n",
    "\n",
    "# 8 units, \n",
    "model.add(LSTM(8, input_shape=(1, look_back), dropout=0.2))\n",
    "\n",
    "# Get a single value\n",
    "model.add(Dense(1, activation='relu'))\n",
    "\n",
    "model.compile(loss='mean_squared_error', optimizer='adam')\n",
    "model.fit(trainX, trainY, epochs=23, batch_size=1, verbose=2)"
   ]
  },
  {
   "cell_type": "code",
   "execution_count": 47,
   "metadata": {},
   "outputs": [
    {
     "name": "stdout",
     "output_type": "stream",
     "text": [
      "Train Score: 37.59 RMSE\n",
      "Test Score: 95.84 RMSE\n"
     ]
    }
   ],
   "source": [
    "trainPredict = model.predict(trainX)\n",
    "testPredict = model.predict(testX)\n",
    "# invert predictions\n",
    "trainPredict = scaler.inverse_transform(trainPredict)\n",
    "trainY = scaler.inverse_transform([trainY])\n",
    "testPredict = scaler.inverse_transform(testPredict)\n",
    "testY = scaler.inverse_transform([testY])\n",
    "# calculate root mean squared error\n",
    "trainScore = math.sqrt(mean_squared_error(trainY[0], trainPredict[:,0]))\n",
    "print('Train Score: %.2f RMSE' % (trainScore))\n",
    "testScore = math.sqrt(mean_squared_error(testY[0], testPredict[:,0]))\n",
    "print('Test Score: %.2f RMSE' % (testScore))"
   ]
  },
  {
   "cell_type": "code",
   "execution_count": 48,
   "metadata": {},
   "outputs": [],
   "source": [
    "trainPredictPlot = np.empty_like(ds)\n",
    "trainPredictPlot[:, :] = np.nan\n",
    "trainPredictPlot[look_back:len(trainPredict)+look_back, :] = trainPredict\n",
    "# shift test predictions for plotting\n",
    "testPredictPlot = np.empty_like(ds)\n",
    "testPredictPlot[:, :] = np.nan\n",
    "testPredictPlot[len(trainPredict)+(look_back*2)+1:len(ds)-1, :] = testPredict[:45]\n",
    "# # plot baseline and predictions\n",
    "# plt.plot(scaler.inverse_transform(ds))\n",
    "# plt.plot(trainPredictPlot)\n",
    "# plt.plot(testPredictPlot)\n",
    "# plt.show()"
   ]
  },
  {
   "cell_type": "code",
   "execution_count": 70,
   "metadata": {},
   "outputs": [
    {
     "data": {
      "text/html": [
       "\n",
       "\n",
       "<style>\n",
       "\n",
       "</style>\n",
       "\n",
       "<div id=\"fig_el3738248756003929591417417\"></div>\n",
       "<script>\n",
       "function mpld3_load_lib(url, callback){\n",
       "  var s = document.createElement('script');\n",
       "  s.src = url;\n",
       "  s.async = true;\n",
       "  s.onreadystatechange = s.onload = callback;\n",
       "  s.onerror = function(){console.warn(\"failed to load library \" + url);};\n",
       "  document.getElementsByTagName(\"head\")[0].appendChild(s);\n",
       "}\n",
       "\n",
       "if(typeof(mpld3) !== \"undefined\" && mpld3._mpld3IsLoaded){\n",
       "   // already loaded: just create the figure\n",
       "   !function(mpld3){\n",
       "       \n",
       "       mpld3.draw_figure(\"fig_el3738248756003929591417417\", {\"data\": {\"data01\": [[0.0, 112.0], [1.0, 118.0], [2.0, 132.0], [3.0, 129.0], [4.0, 121.0], [5.0, 135.0], [6.0, 148.0], [7.0, 148.0], [8.0, 136.0], [9.0, 119.0], [10.0, 104.0], [11.0, 118.0], [12.0, 115.0], [13.0, 126.0], [14.0, 141.0], [15.0, 135.0], [16.0, 125.0], [17.0, 149.0], [18.0, 170.0], [19.0, 170.0], [20.0, 158.0], [21.0, 133.0], [22.0, 114.0], [23.0, 140.0], [24.0, 145.0], [25.0, 150.0], [26.0, 178.0], [27.0, 163.0], [28.0, 172.0], [29.0, 178.0], [30.0, 199.0], [31.0, 199.0], [32.0, 184.0], [33.0, 162.0], [34.0, 146.0], [35.0, 166.0], [36.0, 171.0], [37.0, 180.0], [38.0, 193.0], [39.0, 181.0], [40.0, 183.0], [41.0, 218.0], [42.0, 230.0], [43.0, 242.0], [44.0, 209.0], [45.0, 191.0], [46.0, 172.0], [47.0, 194.0], [48.0, 196.0], [49.0, 196.0], [50.0, 236.0], [51.0, 235.0], [52.0, 229.0], [53.0, 243.0], [54.0, 264.0], [55.0, 272.0], [56.0, 237.0], [57.0, 211.0], [58.0, 180.0], [59.0, 201.0], [60.0, 204.0], [61.0, 188.0], [62.0, 235.0], [63.0, 227.0], [64.0, 234.0], [65.0, 264.0], [66.0, 302.0], [67.0, 293.0], [68.0, 259.0], [69.0, 229.0], [70.0, 203.0], [71.0, 229.0], [72.0, 242.0], [73.0, 233.0], [74.0, 267.0], [75.0, 269.0], [76.0, 270.0], [77.0, 315.0], [78.0, 363.9999694824219], [79.0, 347.0], [80.0, 312.0], [81.0, 274.0], [82.0, 237.0], [83.0, 278.0], [84.0, 284.0], [85.0, 277.0], [86.0, 317.0], [87.0, 313.0], [88.0, 318.0], [89.0, 373.9999694824219], [90.0, 412.9999694824219], [91.0, 404.9999694824219], [92.0, 355.0], [93.0, 306.0], [94.0, 271.0], [95.0, 306.0], [96.0, 315.0], [97.0, 301.0], [98.0, 356.0], [99.0, 348.0], [100.0, 355.0], [101.0, 421.9999694824219], [102.0, 465.0], [103.0, 466.9999694824219], [104.0, 403.9999694824219], [105.0, 347.0], [106.0, 305.0], [107.0, 336.0], [108.0, 340.0], [109.0, 318.0], [110.0, 362.0], [111.0, 348.0], [112.0, 363.0], [113.0, 434.9999694824219], [114.0, 491.0], [115.0, 505.0], [116.0, 403.9999694824219], [117.0, 359.0], [118.0, 310.0], [119.0, 337.0], [120.0, 360.0], [121.0, 342.0], [122.0, 406.0], [123.0, 395.9999694824219], [124.0, 420.0], [125.0, 471.9999694824219], [126.0, 548.0], [127.0, 559.0], [128.0, 462.9999694824219], [129.0, 407.0], [130.0, 362.0], [131.0, 404.9999694824219], [132.0, 416.9999694824219], [133.0, 390.9999694824219], [134.0, 418.9999694824219], [135.0, 461.0], [136.0, 471.9999694824219], [137.0, 535.0], [138.0, 622.0], [139.0, 606.0], [140.0, 507.9999694824219], [141.0, 461.0], [142.0, 390.0], [143.0, 431.9999694824219]]}, \"width\": 432.0, \"height\": 288.0, \"axes\": [{\"xscale\": \"linear\", \"sharey\": [], \"xdomain\": [-7.15, 150.15], \"ylim\": [78.1, 647.9], \"collections\": [], \"paths\": [], \"bbox\": [0.125, 0.125, 0.775, 0.755], \"xlim\": [-7.15, 150.15], \"images\": [], \"sharex\": [], \"axes\": [{\"tickvalues\": null, \"grid\": {\"alpha\": 0.7, \"color\": \"#D3D3D3\", \"gridOn\": true, \"dasharray\": \"none\"}, \"tickformat\": null, \"position\": \"bottom\", \"nticks\": 10, \"scale\": \"linear\", \"fontsize\": 10.0, \"visible\": true}, {\"tickvalues\": null, \"grid\": {\"alpha\": 0.7, \"color\": \"#D3D3D3\", \"gridOn\": true, \"dasharray\": \"none\"}, \"tickformat\": null, \"position\": \"left\", \"nticks\": 8, \"scale\": \"linear\", \"fontsize\": 10.0, \"visible\": true}], \"markers\": [], \"axesbg\": \"#E5E5E5\", \"axesbgalpha\": null, \"ydomain\": [78.1, 647.9], \"lines\": [{\"data\": \"data01\", \"xindex\": 0, \"dasharray\": \"none\", \"id\": \"el373824877641992\", \"drawstyle\": \"default\", \"alpha\": 1, \"color\": \"#E24A33\", \"yindex\": 1, \"linewidth\": 1.5, \"zorder\": 2, \"coordinates\": \"data\"}], \"zoomable\": true, \"yscale\": \"linear\", \"texts\": [], \"id\": \"el373824877681272\"}], \"id\": \"el373824875600392\", \"plugins\": [{\"type\": \"reset\"}, {\"button\": true, \"type\": \"zoom\", \"enabled\": false}, {\"button\": true, \"type\": \"boxzoom\", \"enabled\": false}]});\n",
       "   }(mpld3);\n",
       "}else if(typeof define === \"function\" && define.amd){\n",
       "   // require.js is available: use it to load d3/mpld3\n",
       "   require.config({paths: {d3: \"https://mpld3.github.io/js/d3.v3.min\"}});\n",
       "   require([\"d3\"], function(d3){\n",
       "      window.d3 = d3;\n",
       "      mpld3_load_lib(\"https://mpld3.github.io/js/mpld3.v0.3.js\", function(){\n",
       "         \n",
       "         mpld3.draw_figure(\"fig_el3738248756003929591417417\", {\"data\": {\"data01\": [[0.0, 112.0], [1.0, 118.0], [2.0, 132.0], [3.0, 129.0], [4.0, 121.0], [5.0, 135.0], [6.0, 148.0], [7.0, 148.0], [8.0, 136.0], [9.0, 119.0], [10.0, 104.0], [11.0, 118.0], [12.0, 115.0], [13.0, 126.0], [14.0, 141.0], [15.0, 135.0], [16.0, 125.0], [17.0, 149.0], [18.0, 170.0], [19.0, 170.0], [20.0, 158.0], [21.0, 133.0], [22.0, 114.0], [23.0, 140.0], [24.0, 145.0], [25.0, 150.0], [26.0, 178.0], [27.0, 163.0], [28.0, 172.0], [29.0, 178.0], [30.0, 199.0], [31.0, 199.0], [32.0, 184.0], [33.0, 162.0], [34.0, 146.0], [35.0, 166.0], [36.0, 171.0], [37.0, 180.0], [38.0, 193.0], [39.0, 181.0], [40.0, 183.0], [41.0, 218.0], [42.0, 230.0], [43.0, 242.0], [44.0, 209.0], [45.0, 191.0], [46.0, 172.0], [47.0, 194.0], [48.0, 196.0], [49.0, 196.0], [50.0, 236.0], [51.0, 235.0], [52.0, 229.0], [53.0, 243.0], [54.0, 264.0], [55.0, 272.0], [56.0, 237.0], [57.0, 211.0], [58.0, 180.0], [59.0, 201.0], [60.0, 204.0], [61.0, 188.0], [62.0, 235.0], [63.0, 227.0], [64.0, 234.0], [65.0, 264.0], [66.0, 302.0], [67.0, 293.0], [68.0, 259.0], [69.0, 229.0], [70.0, 203.0], [71.0, 229.0], [72.0, 242.0], [73.0, 233.0], [74.0, 267.0], [75.0, 269.0], [76.0, 270.0], [77.0, 315.0], [78.0, 363.9999694824219], [79.0, 347.0], [80.0, 312.0], [81.0, 274.0], [82.0, 237.0], [83.0, 278.0], [84.0, 284.0], [85.0, 277.0], [86.0, 317.0], [87.0, 313.0], [88.0, 318.0], [89.0, 373.9999694824219], [90.0, 412.9999694824219], [91.0, 404.9999694824219], [92.0, 355.0], [93.0, 306.0], [94.0, 271.0], [95.0, 306.0], [96.0, 315.0], [97.0, 301.0], [98.0, 356.0], [99.0, 348.0], [100.0, 355.0], [101.0, 421.9999694824219], [102.0, 465.0], [103.0, 466.9999694824219], [104.0, 403.9999694824219], [105.0, 347.0], [106.0, 305.0], [107.0, 336.0], [108.0, 340.0], [109.0, 318.0], [110.0, 362.0], [111.0, 348.0], [112.0, 363.0], [113.0, 434.9999694824219], [114.0, 491.0], [115.0, 505.0], [116.0, 403.9999694824219], [117.0, 359.0], [118.0, 310.0], [119.0, 337.0], [120.0, 360.0], [121.0, 342.0], [122.0, 406.0], [123.0, 395.9999694824219], [124.0, 420.0], [125.0, 471.9999694824219], [126.0, 548.0], [127.0, 559.0], [128.0, 462.9999694824219], [129.0, 407.0], [130.0, 362.0], [131.0, 404.9999694824219], [132.0, 416.9999694824219], [133.0, 390.9999694824219], [134.0, 418.9999694824219], [135.0, 461.0], [136.0, 471.9999694824219], [137.0, 535.0], [138.0, 622.0], [139.0, 606.0], [140.0, 507.9999694824219], [141.0, 461.0], [142.0, 390.0], [143.0, 431.9999694824219]]}, \"width\": 432.0, \"height\": 288.0, \"axes\": [{\"xscale\": \"linear\", \"sharey\": [], \"xdomain\": [-7.15, 150.15], \"ylim\": [78.1, 647.9], \"collections\": [], \"paths\": [], \"bbox\": [0.125, 0.125, 0.775, 0.755], \"xlim\": [-7.15, 150.15], \"images\": [], \"sharex\": [], \"axes\": [{\"tickvalues\": null, \"grid\": {\"alpha\": 0.7, \"color\": \"#D3D3D3\", \"gridOn\": true, \"dasharray\": \"none\"}, \"tickformat\": null, \"position\": \"bottom\", \"nticks\": 10, \"scale\": \"linear\", \"fontsize\": 10.0, \"visible\": true}, {\"tickvalues\": null, \"grid\": {\"alpha\": 0.7, \"color\": \"#D3D3D3\", \"gridOn\": true, \"dasharray\": \"none\"}, \"tickformat\": null, \"position\": \"left\", \"nticks\": 8, \"scale\": \"linear\", \"fontsize\": 10.0, \"visible\": true}], \"markers\": [], \"axesbg\": \"#E5E5E5\", \"axesbgalpha\": null, \"ydomain\": [78.1, 647.9], \"lines\": [{\"data\": \"data01\", \"xindex\": 0, \"dasharray\": \"none\", \"id\": \"el373824877641992\", \"drawstyle\": \"default\", \"alpha\": 1, \"color\": \"#E24A33\", \"yindex\": 1, \"linewidth\": 1.5, \"zorder\": 2, \"coordinates\": \"data\"}], \"zoomable\": true, \"yscale\": \"linear\", \"texts\": [], \"id\": \"el373824877681272\"}], \"id\": \"el373824875600392\", \"plugins\": [{\"type\": \"reset\"}, {\"button\": true, \"type\": \"zoom\", \"enabled\": false}, {\"button\": true, \"type\": \"boxzoom\", \"enabled\": false}]});\n",
       "      });\n",
       "    });\n",
       "}else{\n",
       "    // require.js not available: dynamically load d3 & mpld3\n",
       "    mpld3_load_lib(\"https://mpld3.github.io/js/d3.v3.min.js\", function(){\n",
       "         mpld3_load_lib(\"https://mpld3.github.io/js/mpld3.v0.3.js\", function(){\n",
       "                 \n",
       "                 mpld3.draw_figure(\"fig_el3738248756003929591417417\", {\"data\": {\"data01\": [[0.0, 112.0], [1.0, 118.0], [2.0, 132.0], [3.0, 129.0], [4.0, 121.0], [5.0, 135.0], [6.0, 148.0], [7.0, 148.0], [8.0, 136.0], [9.0, 119.0], [10.0, 104.0], [11.0, 118.0], [12.0, 115.0], [13.0, 126.0], [14.0, 141.0], [15.0, 135.0], [16.0, 125.0], [17.0, 149.0], [18.0, 170.0], [19.0, 170.0], [20.0, 158.0], [21.0, 133.0], [22.0, 114.0], [23.0, 140.0], [24.0, 145.0], [25.0, 150.0], [26.0, 178.0], [27.0, 163.0], [28.0, 172.0], [29.0, 178.0], [30.0, 199.0], [31.0, 199.0], [32.0, 184.0], [33.0, 162.0], [34.0, 146.0], [35.0, 166.0], [36.0, 171.0], [37.0, 180.0], [38.0, 193.0], [39.0, 181.0], [40.0, 183.0], [41.0, 218.0], [42.0, 230.0], [43.0, 242.0], [44.0, 209.0], [45.0, 191.0], [46.0, 172.0], [47.0, 194.0], [48.0, 196.0], [49.0, 196.0], [50.0, 236.0], [51.0, 235.0], [52.0, 229.0], [53.0, 243.0], [54.0, 264.0], [55.0, 272.0], [56.0, 237.0], [57.0, 211.0], [58.0, 180.0], [59.0, 201.0], [60.0, 204.0], [61.0, 188.0], [62.0, 235.0], [63.0, 227.0], [64.0, 234.0], [65.0, 264.0], [66.0, 302.0], [67.0, 293.0], [68.0, 259.0], [69.0, 229.0], [70.0, 203.0], [71.0, 229.0], [72.0, 242.0], [73.0, 233.0], [74.0, 267.0], [75.0, 269.0], [76.0, 270.0], [77.0, 315.0], [78.0, 363.9999694824219], [79.0, 347.0], [80.0, 312.0], [81.0, 274.0], [82.0, 237.0], [83.0, 278.0], [84.0, 284.0], [85.0, 277.0], [86.0, 317.0], [87.0, 313.0], [88.0, 318.0], [89.0, 373.9999694824219], [90.0, 412.9999694824219], [91.0, 404.9999694824219], [92.0, 355.0], [93.0, 306.0], [94.0, 271.0], [95.0, 306.0], [96.0, 315.0], [97.0, 301.0], [98.0, 356.0], [99.0, 348.0], [100.0, 355.0], [101.0, 421.9999694824219], [102.0, 465.0], [103.0, 466.9999694824219], [104.0, 403.9999694824219], [105.0, 347.0], [106.0, 305.0], [107.0, 336.0], [108.0, 340.0], [109.0, 318.0], [110.0, 362.0], [111.0, 348.0], [112.0, 363.0], [113.0, 434.9999694824219], [114.0, 491.0], [115.0, 505.0], [116.0, 403.9999694824219], [117.0, 359.0], [118.0, 310.0], [119.0, 337.0], [120.0, 360.0], [121.0, 342.0], [122.0, 406.0], [123.0, 395.9999694824219], [124.0, 420.0], [125.0, 471.9999694824219], [126.0, 548.0], [127.0, 559.0], [128.0, 462.9999694824219], [129.0, 407.0], [130.0, 362.0], [131.0, 404.9999694824219], [132.0, 416.9999694824219], [133.0, 390.9999694824219], [134.0, 418.9999694824219], [135.0, 461.0], [136.0, 471.9999694824219], [137.0, 535.0], [138.0, 622.0], [139.0, 606.0], [140.0, 507.9999694824219], [141.0, 461.0], [142.0, 390.0], [143.0, 431.9999694824219]]}, \"width\": 432.0, \"height\": 288.0, \"axes\": [{\"xscale\": \"linear\", \"sharey\": [], \"xdomain\": [-7.15, 150.15], \"ylim\": [78.1, 647.9], \"collections\": [], \"paths\": [], \"bbox\": [0.125, 0.125, 0.775, 0.755], \"xlim\": [-7.15, 150.15], \"images\": [], \"sharex\": [], \"axes\": [{\"tickvalues\": null, \"grid\": {\"alpha\": 0.7, \"color\": \"#D3D3D3\", \"gridOn\": true, \"dasharray\": \"none\"}, \"tickformat\": null, \"position\": \"bottom\", \"nticks\": 10, \"scale\": \"linear\", \"fontsize\": 10.0, \"visible\": true}, {\"tickvalues\": null, \"grid\": {\"alpha\": 0.7, \"color\": \"#D3D3D3\", \"gridOn\": true, \"dasharray\": \"none\"}, \"tickformat\": null, \"position\": \"left\", \"nticks\": 8, \"scale\": \"linear\", \"fontsize\": 10.0, \"visible\": true}], \"markers\": [], \"axesbg\": \"#E5E5E5\", \"axesbgalpha\": null, \"ydomain\": [78.1, 647.9], \"lines\": [{\"data\": \"data01\", \"xindex\": 0, \"dasharray\": \"none\", \"id\": \"el373824877641992\", \"drawstyle\": \"default\", \"alpha\": 1, \"color\": \"#E24A33\", \"yindex\": 1, \"linewidth\": 1.5, \"zorder\": 2, \"coordinates\": \"data\"}], \"zoomable\": true, \"yscale\": \"linear\", \"texts\": [], \"id\": \"el373824877681272\"}], \"id\": \"el373824875600392\", \"plugins\": [{\"type\": \"reset\"}, {\"button\": true, \"type\": \"zoom\", \"enabled\": false}, {\"button\": true, \"type\": \"boxzoom\", \"enabled\": false}]});\n",
       "            })\n",
       "         });\n",
       "}\n",
       "</script>"
      ],
      "text/plain": [
       "<IPython.core.display.HTML object>"
      ]
     },
     "execution_count": 70,
     "metadata": {},
     "output_type": "execute_result"
    }
   ],
   "source": [
    "fig, ax = plt.subplots()\n",
    "ax.plot(scaler.inverse_transform(ds))\n",
    "#ax.plot(trainPredictPlot)\n",
    "#ax.plot(testPredictPlot)\n",
    "ax.grid(color='lightgray', alpha=0.7)\n",
    "display(fig)"
   ]
  },
  {
   "cell_type": "code",
   "execution_count": null,
   "metadata": {
    "collapsed": true
   },
   "outputs": [],
   "source": []
  },
  {
   "cell_type": "code",
   "execution_count": null,
   "metadata": {
    "collapsed": true
   },
   "outputs": [],
   "source": []
  }
 ],
 "metadata": {
  "kernelspec": {
   "display_name": "Python 3",
   "language": "python",
   "name": "python3"
  },
  "language_info": {
   "codemirror_mode": {
    "name": "ipython",
    "version": 3
   },
   "file_extension": ".py",
   "mimetype": "text/x-python",
   "name": "python",
   "nbconvert_exporter": "python",
   "pygments_lexer": "ipython3",
   "version": "3.5.4"
  }
 },
 "nbformat": 4,
 "nbformat_minor": 2
}
