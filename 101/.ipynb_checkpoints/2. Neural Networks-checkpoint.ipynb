{
 "cells": [
  {
   "cell_type": "markdown",
   "metadata": {},
   "source": [
    "# Neural Networks\n",
    "1. Deep learning\n",
    "2. Convolutional Neural Networks\n",
    "3. Recurrent Neural Networks\n",
    "4. Generative Adversarial Neural Networks\n",
    "5. Deep Reinforcement Learning\n",
    "6. Auto-Encoders"
   ]
  },
  {
   "cell_type": "markdown",
   "metadata": {},
   "source": [
    "## 1. Deep Learning\n",
    "1. A. Multi-Layer Perceptron or MLP\n",
    "1. B. Perceptron\n",
    "1. C. FeedForwarding\n",
    "1. D. Back Propagation\n",
    "\n",
    "### 1.A. Multi Layer Perceptron\n",
    "Works for almost anything\n",
    "![alt text](https://media.giphy.com/media/26FfhlHI4FSEICwNi/giphy.gif)"
   ]
  },
  {
   "cell_type": "code",
   "execution_count": 5,
   "metadata": {},
   "outputs": [
    {
     "name": "stdout",
     "output_type": "stream",
     "text": [
      "Collecting hide_code\n",
      "  Downloading hide_code-0.5.0.tar.gz\n",
      "Requirement already satisfied: jupyter in /usr/local/lib/python3.6/site-packages (from hide_code)\n",
      "Collecting pdfkit (from hide_code)\n",
      "  Downloading pdfkit-0.6.1-py3-none-any.whl\n",
      "Requirement already satisfied: nbconvert>=5.0 in /usr/local/lib/python3.6/site-packages (from hide_code)\n",
      "Requirement already satisfied: notebook>=5.1 in /usr/local/lib/python3.6/site-packages (from hide_code)\n",
      "Requirement already satisfied: ipykernel in /usr/local/lib/python3.6/site-packages (from jupyter->hide_code)\n",
      "Requirement already satisfied: qtconsole in /usr/local/lib/python3.6/site-packages (from jupyter->hide_code)\n",
      "Requirement already satisfied: ipywidgets in /usr/local/lib/python3.6/site-packages (from jupyter->hide_code)\n",
      "Requirement already satisfied: jupyter-console in /usr/local/lib/python3.6/site-packages (from jupyter->hide_code)\n",
      "Requirement already satisfied: entrypoints>=0.2.2 in /usr/local/lib/python3.6/site-packages (from nbconvert>=5.0->hide_code)\n",
      "Requirement already satisfied: pygments in /usr/local/lib/python3.6/site-packages (from nbconvert>=5.0->hide_code)\n",
      "Requirement already satisfied: testpath in /usr/local/lib/python3.6/site-packages (from nbconvert>=5.0->hide_code)\n",
      "Requirement already satisfied: jinja2 in /usr/local/lib/python3.6/site-packages (from nbconvert>=5.0->hide_code)\n",
      "Requirement already satisfied: jupyter-core in /usr/local/lib/python3.6/site-packages (from nbconvert>=5.0->hide_code)\n",
      "Requirement already satisfied: bleach in /usr/local/lib/python3.6/site-packages (from nbconvert>=5.0->hide_code)\n",
      "Requirement already satisfied: nbformat>=4.4 in /usr/local/lib/python3.6/site-packages (from nbconvert>=5.0->hide_code)\n",
      "Requirement already satisfied: mistune>=0.7.4 in /usr/local/lib/python3.6/site-packages (from nbconvert>=5.0->hide_code)\n",
      "Requirement already satisfied: traitlets>=4.2 in /usr/local/lib/python3.6/site-packages (from nbconvert>=5.0->hide_code)\n",
      "Requirement already satisfied: pandocfilters>=1.4.1 in /usr/local/lib/python3.6/site-packages (from nbconvert>=5.0->hide_code)\n",
      "Requirement already satisfied: tornado>=4 in /usr/local/lib/python3.6/site-packages (from notebook>=5.1->hide_code)\n",
      "Requirement already satisfied: ipython-genutils in /usr/local/lib/python3.6/site-packages (from notebook>=5.1->hide_code)\n",
      "Requirement already satisfied: terminado>=0.3.3; sys_platform != \"win32\" in /usr/local/lib/python3.6/site-packages (from notebook>=5.1->hide_code)\n",
      "Requirement already satisfied: jupyter-client in /usr/local/lib/python3.6/site-packages (from notebook>=5.1->hide_code)\n",
      "Requirement already satisfied: ipython>=4.0.0 in /usr/local/lib/python3.6/site-packages (from ipykernel->jupyter->hide_code)\n",
      "Requirement already satisfied: widgetsnbextension~=3.0.0 in /usr/local/lib/python3.6/site-packages (from ipywidgets->jupyter->hide_code)\n",
      "Requirement already satisfied: prompt-toolkit<2.0.0,>=1.0.0 in /usr/local/lib/python3.6/site-packages (from jupyter-console->jupyter->hide_code)\n",
      "Requirement already satisfied: MarkupSafe>=0.23 in /usr/local/lib/python3.6/site-packages (from jinja2->nbconvert>=5.0->hide_code)\n",
      "Requirement already satisfied: six in /usr/local/lib/python3.6/site-packages (from bleach->nbconvert>=5.0->hide_code)\n",
      "Requirement already satisfied: html5lib>=0.99999999 in /usr/local/lib/python3.6/site-packages (from bleach->nbconvert>=5.0->hide_code)\n",
      "Requirement already satisfied: jsonschema!=2.5.0,>=2.4 in /usr/local/lib/python3.6/site-packages (from nbformat>=4.4->nbconvert>=5.0->hide_code)\n",
      "Requirement already satisfied: decorator in /usr/local/lib/python3.6/site-packages (from traitlets>=4.2->nbconvert>=5.0->hide_code)\n",
      "Requirement already satisfied: ptyprocess in /usr/local/lib/python3.6/site-packages (from terminado>=0.3.3; sys_platform != \"win32\"->notebook>=5.1->hide_code)\n",
      "Requirement already satisfied: pyzmq>=13 in /usr/local/lib/python3.6/site-packages (from jupyter-client->notebook>=5.1->hide_code)\n",
      "Requirement already satisfied: python-dateutil>=2.1 in /usr/local/lib/python3.6/site-packages (from jupyter-client->notebook>=5.1->hide_code)\n",
      "Requirement already satisfied: simplegeneric>0.8 in /usr/local/lib/python3.6/site-packages (from ipython>=4.0.0->ipykernel->jupyter->hide_code)\n",
      "Requirement already satisfied: pexpect; sys_platform != \"win32\" in /usr/local/lib/python3.6/site-packages (from ipython>=4.0.0->ipykernel->jupyter->hide_code)\n",
      "Requirement already satisfied: setuptools>=18.5 in /usr/local/lib/python3.6/site-packages (from ipython>=4.0.0->ipykernel->jupyter->hide_code)\n",
      "Requirement already satisfied: pickleshare in /usr/local/lib/python3.6/site-packages (from ipython>=4.0.0->ipykernel->jupyter->hide_code)\n",
      "Requirement already satisfied: jedi>=0.10 in /usr/local/lib/python3.6/site-packages (from ipython>=4.0.0->ipykernel->jupyter->hide_code)\n",
      "Requirement already satisfied: appnope; sys_platform == \"darwin\" in /usr/local/lib/python3.6/site-packages (from ipython>=4.0.0->ipykernel->jupyter->hide_code)\n",
      "Requirement already satisfied: wcwidth in /usr/local/lib/python3.6/site-packages (from prompt-toolkit<2.0.0,>=1.0.0->jupyter-console->jupyter->hide_code)\n",
      "Requirement already satisfied: webencodings in /usr/local/lib/python3.6/site-packages (from html5lib>=0.99999999->bleach->nbconvert>=5.0->hide_code)\n",
      "Requirement already satisfied: parso==0.1.0 in /usr/local/lib/python3.6/site-packages (from jedi>=0.10->ipython>=4.0.0->ipykernel->jupyter->hide_code)\n",
      "Building wheels for collected packages: hide-code\n",
      "  Running setup.py bdist_wheel for hide-code ... \u001b[?25ldone\n",
      "\u001b[?25h  Stored in directory: /Users/nicolasfeller/Library/Caches/pip/wheels/47/94/67/b2358f63eaff5a4ae8399789c6a96e010880ebed29b0a5ed75\n",
      "Successfully built hide-code\n",
      "Installing collected packages: pdfkit, hide-code\n",
      "Successfully installed hide-code-0.5.0 pdfkit-0.6.1\n"
     ]
    }
   ],
   "source": []
  },
  {
   "cell_type": "code",
   "execution_count": null,
   "metadata": {
    "collapsed": true
   },
   "outputs": [],
   "source": []
  }
 ],
 "metadata": {
  "kernelspec": {
   "display_name": "Python 3",
   "language": "python",
   "name": "python3"
  },
  "language_info": {
   "codemirror_mode": {
    "name": "ipython",
    "version": 3
   },
   "file_extension": ".py",
   "mimetype": "text/x-python",
   "name": "python",
   "nbconvert_exporter": "python",
   "pygments_lexer": "ipython3",
   "version": "3.5.4"
  }
 },
 "nbformat": 4,
 "nbformat_minor": 2
}
