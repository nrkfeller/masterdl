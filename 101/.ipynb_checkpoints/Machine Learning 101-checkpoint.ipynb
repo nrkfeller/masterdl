{
 "cells": [
  {
   "cell_type": "markdown",
   "metadata": {
    "colab_type": "text",
    "id": "NChghbgUif3Z"
   },
   "source": [
    "# What is Machine Learning\n",
    "Area of computer science aim at getting a program to learn from data without explicitly being programmed. Evolved from pattern recognition and computational learning theory. The idea is that a model or agent is trained by looking at data and eventially should be ago to generalize what it has learned to new examples. Strategies: regression, clustering, neural networks, support vector machines. Examples: deep blue, go zero, license plate detectors, spam classification, trading algorithms.\n",
    "\n",
    "# Types of Machine Learning\n",
    "1. Supervised\n",
    "2. Unsupervised (semi-supervised)\n",
    "3. Reinforcement\n",
    "\n",
    "# Machine Learning Concepts\n",
    "1. Regression Algorithms\n",
    "2. Logistic Regression\n",
    "3. K nearest neighbors\n",
    "4. Support Vector Machines\n",
    "5. Decision Trees\n",
    "6. Random Forest / Ada Boost\n",
    "7. Naive Bayes\n",
    "\n",
    "# Neural Networks\n",
    "1. Perceptron\n",
    "2. Feedforward / Multi Layer Perceptron\n",
    "3. Convolutional Neural Networks\n",
    "4. Recurrent Neural Networks\n",
    "5. Generative Adversarial Neural Networks\n",
    "6. Deep Reinforcement Learning\n",
    "7. Auto-Encoers\n",
    "\n",
    "# Applications\n",
    "* Image Tagging\n",
    "* Video Understanding\n",
    "* Text Summarization\n",
    "* Consistency Detection in Text\n",
    "* Generating Images\n",
    "* Profiling and Recommender Systems\n",
    "* Stylization\n",
    "* Libratus\n",
    "* Deep Blue to Go Zero\n",
    "* Document Information Extraction\n",
    "\n",
    "# Subjects to Cover\n",
    "1. Tsne\n",
    "2. N-grams\n",
    "3. Bag of Words\n",
    "4. Structured versus Unstructured Data\n",
    "\n",
    "# Advanced Topics\n",
    "1. One/Few shot learning\n",
    "2. Ensemble Learning\n",
    "3. Neural Turing Machine\n",
    "4. Capsule Networks\n",
    "5. Regularization, Normalization and Dropout\n",
    "6. Deep Q learning\n",
    "7. Meta Learning\n",
    "8. Wide and Deep Learning\n",
    "9. ResNet"
   ]
  },
  {
   "cell_type": "code",
   "execution_count": 1,
   "metadata": {
    "colab": {
     "autoexec": {
      "startup": false,
      "wait_interval": 0
     }
    },
    "colab_type": "code",
    "id": "D-3PJQLIK012"
   },
   "outputs": [
    {
     "name": "stderr",
     "output_type": "stream",
     "text": [
      "/Users/nicolasfeller/anaconda/lib/python2.7/site-packages/matplotlib/font_manager.py:280: UserWarning: Matplotlib is building the font cache using fc-list. This may take a moment.\n",
      "  'Matplotlib is building the font cache using fc-list. '\n"
     ]
    }
   ],
   "source": []
  },
  {
   "cell_type": "markdown",
   "metadata": {
    "colab_type": "text",
    "id": "OMsO7oGD52uq"
   },
   "source": [
    "#What is Machine Learning\n",
    "### Supervised Learning\n",
    "Data can be split into training and test data, where the training data is labelled and the algorithms learns a mapping between the training set and its associated labels. Spam/Ham or stock market predictions are supervised problems.\n",
    "\n",
    "![alt text](https://3qeqpr26caki16dnhd19sv6by6v-wpengine.netdna-ssl.com/wp-content/uploads/2013/11/Supervised-Learning-Algorithms.png)\n",
    "\n",
    "### Unsupervised Learning\n",
    "Data is not labelled and does not have known results. A model is tasked with extracting rules and to organize data by similarity. Strategies include clustering, dimensionality reduction, association rule learning. Behavior based detection, anomaly detection.\n",
    "\n",
    "![alt text](https://3qeqpr26caki16dnhd19sv6by6v-wpengine.netdna-ssl.com/wp-content/uploads/2013/11/Unsupervised-Learning-Algorithms.png)\n",
    "\n",
    "### Semi supervised learning\n",
    "Mixture of labelled and unlabelled data, the model must learn the strutures to organize the data. Kind of like supervised learning, but with a huge test set compare to training set\n",
    "\n",
    "![alt text](https://3qeqpr26caki16dnhd19sv6by6v-wpengine.netdna-ssl.com/wp-content/uploads/2013/11/Semi-supervised-Learning-Algorithms.png)\n",
    "\n",
    "### Reinforement Learning\n",
    "Software agent interacts with its environemnt. With goal of maximizing a reward. Examples are game theory, control theory, operations research. Chess, mario kart, go.\n",
    "\n",
    "![alt text](https://upload.wikimedia.org/wikipedia/commons/1/1b/Reinforcement_learning_diagram.svg)"
   ]
  },
  {
   "cell_type": "markdown",
   "metadata": {
    "colab_type": "text",
    "id": "PRg3kZbbHo6y"
   },
   "source": [
    "# Machine Learning Concepts\n",
    "\n",
    "## 1. Regression\n",
    "Modeling a linear relationship between variables iteratively while reducing some measure of error. Regression is a class of problem as well as an algorithm (this can be confusing). Really regression serves to fit a function to the data points that are labelled"
   ]
  },
  {
   "cell_type": "code",
   "execution_count": 5,
   "metadata": {
    "colab": {
     "autoexec": {
      "startup": false,
      "wait_interval": 0
     },
     "base_uri": "https://localhost:8080/",
     "height": 282,
     "output_extras": [
      {},
      {}
     ]
    },
    "colab_type": "code",
    "executionInfo": {
     "elapsed": 579,
     "status": "ok",
     "timestamp": 1510685580400,
     "user": {
      "displayName": "Nicolas Feller",
      "photoUrl": "//lh4.googleusercontent.com/-844FGwb4NBs/AAAAAAAAAAI/AAAAAAAAABQ/h7BzL7Loo8o/s50-c-k-no/photo.jpg",
      "userId": "101545057740739250836"
     },
     "user_tz": 300
    },
    "id": "6kGOq_YlisHx",
    "outputId": "218c5ffd-08a3-4fd1-e0c5-bfe6e0b2f032"
   },
   "outputs": [
    {
     "data": {
      "text/plain": [
       "<function matplotlib.pyplot.show>"
      ]
     },
     "execution_count": 5,
     "metadata": {},
     "output_type": "execute_result"
    },
    {
     "data": {
      "image/png": "[encoded data removed]",
      "text/plain": [
       "<matplotlib.figure.Figure at 0x1a135b0a90>"
      ]
     },
     "metadata": {},
     "output_type": "display_data"
    }
   ],
   "source": [
    "import matplotlib.pyplot as plt\n",
    "%matplotlib inline\n",
    "plt.style.use('ggplot')\n",
    "import numpy as np\n",
    "from sklearn import datasets, linear_model\n",
    "from sklearn.metrics import mean_squared_error, r2_score\n",
    "\n",
    "x = np.array([0.0,1.,2.,3.,4.,5.,6.])\n",
    "y = np.array([0.0,1.,2.,2.,3.,3.,4.])\n",
    "plt.scatter(x,y)\n",
    "plt.show"
   ]
  },
  {
   "cell_type": "code",
   "execution_count": 7,
   "metadata": {
    "colab": {
     "autoexec": {
      "startup": false,
      "wait_interval": 0
     },
     "base_uri": "https://localhost:8080/",
     "height": 265,
     "output_extras": [
      {}
     ]
    },
    "colab_type": "code",
    "executionInfo": {
     "elapsed": 393,
     "status": "ok",
     "timestamp": 1510686820291,
     "user": {
      "displayName": "Nicolas Feller",
      "photoUrl": "//lh4.googleusercontent.com/-844FGwb4NBs/AAAAAAAAAAI/AAAAAAAAABQ/h7BzL7Loo8o/s50-c-k-no/photo.jpg",
      "userId": "101545057740739250836"
     },
     "user_tz": 300
    },
    "id": "9Y8es6AE5uTi",
    "outputId": "97fda777-779f-4af3-c025-1e57841b33f2"
   },
   "outputs": [
    {
     "data": {
      "image/png": "[encoded data removed]",
      "text/plain": [
       "<matplotlib.figure.Figure at 0x1a134de3d0>"
      ]
     },
     "metadata": {},
     "output_type": "display_data"
    }
   ],
   "source": [
    "\n",
    "\n",
    "model = linear_model.LinearRegression()\n",
    "model.fit(x.reshape(len(x),1),y.reshape(len(x),1))\n",
    "preds = model.predict(x.reshape(len(x),1))\n",
    "plt.scatter(x,y)\n",
    "plt.plot(x, preds, color='r')\n",
    "plt.show()"
   ]
  },
  {
   "cell_type": "markdown",
   "metadata": {
    "colab_type": "text",
    "id": "ZR6WS3Zk87u0"
   },
   "source": [
    "## 2. K Nearest Neighbors\n",
    "Clustering strategy finds closest labeled datapoints, and choose class based on majority. Distance metric can be euclidean, hamming, cosine. Similar to K means clustering\n",
    "\n",
    "Introduce iris data set:\n",
    "https://en.wikipedia.org/wiki/Iris_flower_data_set"
   ]
  },
  {
   "cell_type": "code",
   "execution_count": 8,
   "metadata": {
    "colab": {
     "autoexec": {
      "startup": false,
      "wait_interval": 0
     }
    },
    "colab_type": "code",
    "collapsed": true,
    "id": "E_sCuQ4VD-kD"
   },
   "outputs": [],
   "source": [
    "from sklearn import datasets\n",
    "from sklearn.neighbors import KNeighborsClassifier\n",
    "import pandas as pd\n",
    "import seaborn as sns"
   ]
  },
  {
   "cell_type": "code",
   "execution_count": 9,
   "metadata": {
    "colab": {
     "autoexec": {
      "startup": false,
      "wait_interval": 0
     }
    },
    "colab_type": "code",
    "collapsed": true,
    "id": "I1vfArw7eMcX"
   },
   "outputs": [],
   "source": [
    "df = sns.load_dataset(\"iris\")\n",
    "df = df.drop('sepal_width', 1)\n",
    "df = df.drop('sepal_length', 1)"
   ]
  },
  {
   "cell_type": "code",
   "execution_count": 10,
   "metadata": {
    "colab": {
     "autoexec": {
      "startup": false,
      "wait_interval": 0
     },
     "base_uri": "https://localhost:8080/",
     "height": 386,
     "output_extras": [
      {},
      {}
     ]
    },
    "colab_type": "code",
    "executionInfo": {
     "elapsed": 407,
     "status": "ok",
     "timestamp": 1510687956318,
     "user": {
      "displayName": "Nicolas Feller",
      "photoUrl": "//lh4.googleusercontent.com/-844FGwb4NBs/AAAAAAAAAAI/AAAAAAAAABQ/h7BzL7Loo8o/s50-c-k-no/photo.jpg",
      "userId": "101545057740739250836"
     },
     "user_tz": 300
    },
    "id": "yLe45gUHeV8T",
    "outputId": "5e933f9c-976f-43a8-aa39-855b7d8a776d"
   },
   "outputs": [
    {
     "data": {
      "text/plain": [
       "<seaborn.axisgrid.FacetGrid at 0x1a13bea6d0>"
      ]
     },
     "execution_count": 10,
     "metadata": {},
     "output_type": "execute_result"
    },
    {
     "data": {
      "image/png": "[encoded data removed]",
      "text/plain": [
       "<matplotlib.figure.Figure at 0x1a151ec8d0>"
      ]
     },
     "metadata": {},
     "output_type": "display_data"
    }
   ],
   "source": [
    "sns.lmplot(\"petal_length\", \"petal_width\", data=df, hue='species', fit_reg=False)"
   ]
  },
  {
   "cell_type": "code",
   "execution_count": 11,
   "metadata": {
    "colab": {
     "autoexec": {
      "startup": false,
      "wait_interval": 0
     }
    },
    "colab_type": "code",
    "id": "JyZdENySD02b"
   },
   "outputs": [
    {
     "data": {
      "text/plain": [
       "KNeighborsClassifier(algorithm='auto', leaf_size=30, metric='minkowski',\n",
       "           metric_params=None, n_jobs=1, n_neighbors=5, p=2,\n",
       "           weights='uniform')"
      ]
     },
     "execution_count": 11,
     "metadata": {},
     "output_type": "execute_result"
    }
   ],
   "source": [
    "X = df[['petal_length', 'petal_width']].values\n",
    "y = df['species'].values\n",
    "model = KNeighborsClassifier()\n",
    "model.fit(X,y)"
   ]
  },
  {
   "cell_type": "code",
   "execution_count": null,
   "metadata": {
    "colab": {
     "autoexec": {
      "startup": false,
      "wait_interval": 0
     },
     "base_uri": "https://localhost:8080/",
     "height": 34,
     "output_extras": [
      {}
     ]
    },
    "colab_type": "code",
    "executionInfo": {
     "elapsed": 288,
     "status": "ok",
     "timestamp": 1510688907734,
     "user": {
      "displayName": "Nicolas Feller",
      "photoUrl": "//lh4.googleusercontent.com/-844FGwb4NBs/AAAAAAAAAAI/AAAAAAAAABQ/h7BzL7Loo8o/s50-c-k-no/photo.jpg",
      "userId": "101545057740739250836"
     },
     "user_tz": 300
    },
    "id": "Cfaz76C4EQ3r",
    "outputId": "99260533-f584-41be-8592-193868f44d5b"
   },
   "outputs": [],
   "source": [
    "new_point = np.array([[6,2]])model.predict(new_point)"
   ]
  },
  {
   "cell_type": "markdown",
   "metadata": {
    "colab_type": "text",
    "id": "vxAmF18KBiv7"
   },
   "source": [
    "## 3. Support Vector Machine\n",
    "Linear classification strategy, maximum margin classification algorithm. Fit the best hyperplane to separate the data classes, classification, regression, outlier, time series.\n",
    "\n",
    "Define a hyperplane (n-1 dimensions) that separates the data most accurately.\n",
    "\n",
    "Interesting things about SVM\n",
    "* Hinge Loss\n",
    "* Kernel Trick, compares a measure of similarity, that can be defined in any way\n",
    "* Mercer condition, acts like a similarily, well behaved function"
   ]
  },
  {
   "cell_type": "code",
   "execution_count": null,
   "metadata": {
    "colab": {
     "autoexec": {
      "startup": false,
      "wait_interval": 0
     },
     "base_uri": "https://localhost:8080/",
     "height": 280,
     "output_extras": [
      {
       "item_id": 1
      }
     ]
    },
    "colab_type": "code",
    "executionInfo": {
     "elapsed": 742,
     "status": "ok",
     "timestamp": 1510847336765,
     "user": {
      "displayName": "Nick R. Feller",
      "photoUrl": "//lh4.googleusercontent.com/-2RRp4ieI3W4/AAAAAAAAAAI/AAAAAAAAACU/MxGI2JlOUHU/s50-c-k-no/photo.jpg",
      "userId": "115509598704763388747"
     },
     "user_tz": 300
    },
    "id": "rfrdSnuS9qm8",
    "outputId": "6e91863c-530c-47ec-9cfb-bd1b27550d30"
   },
   "outputs": [],
   "source": [
    "import numpy as np\n",
    "import matplotlib.pyplot as plt\n",
    "from sklearn import svm, datasets\n",
    "\n",
    "iris = datasets.load_iris()\n",
    "X = iris.data[:, :2]\n",
    "Y = iris.target\n",
    "\n",
    "h = .02\n",
    "\n",
    "clf = svm.SVC(kernel='rbf')\n",
    "clf.fit(X, Y)\n",
    "\n",
    "\n",
    "x_min, x_max = X[:, 0].min() - 1, X[:, 0].max() + 1\n",
    "y_min, y_max = X[:, 1].min() - 1, X[:, 1].max() + 1\n",
    "xx, yy = np.meshgrid(np.arange(x_min, x_max, h), np.arange(y_min, y_max, h))\n",
    "Z = clf.predict(np.c_[xx.ravel(), yy.ravel()])\n",
    "\n",
    "Z = Z.reshape(xx.shape)\n",
    "plt.pcolormesh(xx, yy, Z, cmap=plt.cm.Paired)\n",
    "\n",
    "plt.scatter(X[:, 0], X[:, 1], c=Y, cmap=plt.cm.Paired, edgecolors='k')\n",
    "plt.title('3-Class classification using Support Vector Machine with kernel')\n",
    "plt.axis('tight')\n",
    "plt.show()"
   ]
  },
  {
   "cell_type": "markdown",
   "metadata": {
    "colab_type": "text",
    "id": "_MjTdHmeiDJA"
   },
   "source": [
    "## Decision Trees\n",
    "One of the most used methods of machine learning, it also has the advantage of being interpretable, you can understand exactly why it is making the decsions it makes.\n",
    "\n"
   ]
  },
  {
   "cell_type": "code",
   "execution_count": 86,
   "metadata": {
    "colab": {
     "autoexec": {
      "startup": false,
      "wait_interval": 0
     },
     "base_uri": "https://localhost:8080/",
     "height": 102,
     "output_extras": [
      {
       "item_id": 1
      }
     ]
    },
    "colab_type": "code",
    "executionInfo": {
     "elapsed": 320,
     "status": "ok",
     "timestamp": 1510859195871,
     "user": {
      "displayName": "Nick R. Feller",
      "photoUrl": "//lh4.googleusercontent.com/-2RRp4ieI3W4/AAAAAAAAAAI/AAAAAAAAACU/MxGI2JlOUHU/s50-c-k-no/photo.jpg",
      "userId": "115509598704763388747"
     },
     "user_tz": 300
    },
    "id": "fU1OMVa0lHH8",
    "outputId": "0103e610-8056-46db-8058-ae2a830962e1"
   },
   "outputs": [
    {
     "data": {
      "text/plain": [
       "DecisionTreeClassifier(class_weight=None, criterion='gini', max_depth=None,\n",
       "            max_features=None, max_leaf_nodes=None,\n",
       "            min_impurity_split=1e-07, min_samples_leaf=1,\n",
       "            min_samples_split=2, min_weight_fraction_leaf=0.0,\n",
       "            presort=False, random_state=None, splitter='best')"
      ]
     },
     "execution_count": 86,
     "metadata": {
      "tags": []
     },
     "output_type": "execute_result"
    }
   ],
   "source": [
    "from sklearn.datasets import load_iris\n",
    "from sklearn import tree\n",
    "\n",
    "df = load_iris()\n",
    "data = df.data\n",
    "labels = df.target\n",
    "clf = tree.DecisionTreeClassifier()\n",
    "clf.fit(data, labels)"
   ]
  },
  {
   "cell_type": "code",
   "execution_count": 87,
   "metadata": {
    "colab": {
     "autoexec": {
      "startup": false,
      "wait_interval": 0
     },
     "base_uri": "https://localhost:8080/",
     "height": 440,
     "output_extras": [
      {
       "item_id": 1
      }
     ]
    },
    "colab_type": "code",
    "executionInfo": {
     "elapsed": 767,
     "status": "error",
     "timestamp": 1510859197320,
     "user": {
      "displayName": "Nick R. Feller",
      "photoUrl": "//lh4.googleusercontent.com/-2RRp4ieI3W4/AAAAAAAAAAI/AAAAAAAAACU/MxGI2JlOUHU/s50-c-k-no/photo.jpg",
      "userId": "115509598704763388747"
     },
     "user_tz": 300
    },
    "id": "4BJDYqA-lHLB",
    "outputId": "7677043c-07b1-4544-acbc-f9e8a849961f"
   },
   "outputs": [
    {
     "ename": "InvocationException",
     "evalue": "ignored",
     "output_type": "error",
     "traceback": [
      "\u001b[0;31m\u001b[0m",
      "\u001b[0;31mInvocationException\u001b[0mTraceback (most recent call last)",
      "\u001b[0;32m<ipython-input-87-301a91b38718>\u001b[0m in \u001b[0;36m<module>\u001b[0;34m()\u001b[0m\n\u001b[1;32m      8\u001b[0m                 special_characters=True)\n\u001b[1;32m      9\u001b[0m \u001b[0mgraph\u001b[0m \u001b[0;34m=\u001b[0m \u001b[0mpydotplus\u001b[0m\u001b[0;34m.\u001b[0m\u001b[0mgraph_from_dot_data\u001b[0m\u001b[0;34m(\u001b[0m\u001b[0mdot_data\u001b[0m\u001b[0;34m.\u001b[0m\u001b[0mgetvalue\u001b[0m\u001b[0;34m(\u001b[0m\u001b[0;34m)\u001b[0m\u001b[0;34m)\u001b[0m\u001b[0;34m\u001b[0m\u001b[0m\n\u001b[0;32m---> 10\u001b[0;31m \u001b[0mImage\u001b[0m\u001b[0;34m(\u001b[0m\u001b[0mgraph\u001b[0m\u001b[0;34m.\u001b[0m\u001b[0mcreate_png\u001b[0m\u001b[0;34m(\u001b[0m\u001b[0;34m)\u001b[0m\u001b[0;34m)\u001b[0m\u001b[0;34m\u001b[0m\u001b[0m\n\u001b[0m",
      "\u001b[0;32m/usr/local/lib/python2.7/dist-packages/pydotplus/graphviz.pyc\u001b[0m in \u001b[0;36m<lambda>\u001b[0;34m(f, prog)\u001b[0m\n\u001b[1;32m   1795\u001b[0m             self.__setattr__(\n\u001b[1;32m   1796\u001b[0m                 \u001b[0;34m'create_'\u001b[0m \u001b[0;34m+\u001b[0m \u001b[0mfrmt\u001b[0m\u001b[0;34m,\u001b[0m\u001b[0;34m\u001b[0m\u001b[0m\n\u001b[0;32m-> 1797\u001b[0;31m                 \u001b[0;32mlambda\u001b[0m \u001b[0mf\u001b[0m\u001b[0;34m=\u001b[0m\u001b[0mfrmt\u001b[0m\u001b[0;34m,\u001b[0m \u001b[0mprog\u001b[0m\u001b[0;34m=\u001b[0m\u001b[0mself\u001b[0m\u001b[0;34m.\u001b[0m\u001b[0mprog\u001b[0m\u001b[0;34m:\u001b[0m \u001b[0mself\u001b[0m\u001b[0;34m.\u001b[0m\u001b[0mcreate\u001b[0m\u001b[0;34m(\u001b[0m\u001b[0mformat\u001b[0m\u001b[0;34m=\u001b[0m\u001b[0mf\u001b[0m\u001b[0;34m,\u001b[0m \u001b[0mprog\u001b[0m\u001b[0;34m=\u001b[0m\u001b[0mprog\u001b[0m\u001b[0;34m)\u001b[0m\u001b[0;34m\u001b[0m\u001b[0m\n\u001b[0m\u001b[1;32m   1798\u001b[0m             )\n\u001b[1;32m   1799\u001b[0m             \u001b[0mf\u001b[0m \u001b[0;34m=\u001b[0m \u001b[0mself\u001b[0m\u001b[0;34m.\u001b[0m\u001b[0m__dict__\u001b[0m\u001b[0;34m[\u001b[0m\u001b[0;34m'create_'\u001b[0m \u001b[0;34m+\u001b[0m \u001b[0mfrmt\u001b[0m\u001b[0;34m]\u001b[0m\u001b[0;34m\u001b[0m\u001b[0m\n",
      "\u001b[0;32m/usr/local/lib/python2.7/dist-packages/pydotplus/graphviz.pyc\u001b[0m in \u001b[0;36mcreate\u001b[0;34m(self, prog, format)\u001b[0m\n\u001b[1;32m   1958\u001b[0m             \u001b[0;32mif\u001b[0m \u001b[0mself\u001b[0m\u001b[0;34m.\u001b[0m\u001b[0mprogs\u001b[0m \u001b[0;32mis\u001b[0m \u001b[0mNone\u001b[0m\u001b[0;34m:\u001b[0m\u001b[0;34m\u001b[0m\u001b[0m\n\u001b[1;32m   1959\u001b[0m                 raise InvocationException(\n\u001b[0;32m-> 1960\u001b[0;31m                     'GraphViz\\'s executables not found')\n\u001b[0m\u001b[1;32m   1961\u001b[0m \u001b[0;34m\u001b[0m\u001b[0m\n\u001b[1;32m   1962\u001b[0m         \u001b[0;32mif\u001b[0m \u001b[0mprog\u001b[0m \u001b[0;32mnot\u001b[0m \u001b[0;32min\u001b[0m \u001b[0mself\u001b[0m\u001b[0;34m.\u001b[0m\u001b[0mprogs\u001b[0m\u001b[0;34m:\u001b[0m\u001b[0;34m\u001b[0m\u001b[0m\n",
      "\u001b[0;31mInvocationException\u001b[0m: GraphViz's executables not found"
     ]
    }
   ],
   "source": [
    "from sklearn.externals.six import StringIO  \n",
    "from IPython.display import Image  \n",
    "from sklearn.tree import export_graphviz\n",
    "import pydotplus\n",
    "dot_data = StringIO()\n",
    "export_graphviz(clf, out_file=dot_data,  \n",
    "                filled=True, rounded=True,\n",
    "                special_characters=True)\n",
    "graph = pydotplus.graph_from_dot_data(dot_data.getvalue())  \n",
    "Image(graph.create_png())"
   ]
  },
  {
   "cell_type": "markdown",
   "metadata": {
    "colab_type": "text",
    "id": "671T4cVqgLLr"
   },
   "source": [
    "## Random Forest\n",
    "Bootstrap aggregatting, or bagging\n",
    "\n",
    "Large collection of decorrelated decision trees. Extremely simple technique, but typically has state of the art performance. Essentially beating a random forest is a sign that you are on to something serious.\n",
    "\n",
    "Trees have very high variance and using an ensemble* of trees, it allows us to generalize better. Essentially machine learning by commitee\n",
    "\n",
    "Methodology\n",
    "1. Split data into 'b' bags with replacement\n",
    "2. Build decision trees for each of the training sets, build forest\n",
    "3. Input new data in to all the trees in the forest\n",
    "4. Calculate the votes, mode is predicted class"
   ]
  },
  {
   "cell_type": "code",
   "execution_count": 75,
   "metadata": {
    "colab": {
     "autoexec": {
      "startup": false,
      "wait_interval": 0
     },
     "base_uri": "https://localhost:8080/",
     "height": 119,
     "output_extras": [
      {
       "item_id": 1
      }
     ]
    },
    "colab_type": "code",
    "executionInfo": {
     "elapsed": 261,
     "status": "ok",
     "timestamp": 1510850750193,
     "user": {
      "displayName": "Nick R. Feller",
      "photoUrl": "//lh4.googleusercontent.com/-2RRp4ieI3W4/AAAAAAAAAAI/AAAAAAAAACU/MxGI2JlOUHU/s50-c-k-no/photo.jpg",
      "userId": "115509598704763388747"
     },
     "user_tz": 300
    },
    "id": "Cbu1HU-BXF4N",
    "outputId": "c08f5c3c-4ef4-47d6-b0ca-9d360e23fcf3"
   },
   "outputs": [
    {
     "data": {
      "text/plain": [
       "RandomForestRegressor(bootstrap=True, criterion='mse', max_depth=2,\n",
       "           max_features='auto', max_leaf_nodes=None,\n",
       "           min_impurity_split=1e-07, min_samples_leaf=1,\n",
       "           min_samples_split=2, min_weight_fraction_leaf=0.0,\n",
       "           n_estimators=10, n_jobs=1, oob_score=False, random_state=0,\n",
       "           verbose=0, warm_start=False)"
      ]
     },
     "execution_count": 75,
     "metadata": {
      "tags": []
     },
     "output_type": "execute_result"
    }
   ],
   "source": [
    "from sklearn.ensemble import RandomForestRegressor\n",
    "from sklearn.datasets import make_regression\n",
    "X, y = make_regression(n_features=4, n_informative=2,\n",
    "                        random_state=0, shuffle=False)\n",
    "clf = RandomForestRegressor(max_depth=2, random_state=0)\n",
    "clf.fit(data, labels)"
   ]
  },
  {
   "cell_type": "code",
   "execution_count": 0,
   "metadata": {
    "colab": {
     "autoexec": {
      "startup": false,
      "wait_interval": 0
     }
    },
    "colab_type": "code",
    "collapsed": true,
    "id": "LJ19vzWJYhEo"
   },
   "outputs": [],
   "source": []
  },
  {
   "cell_type": "markdown",
   "metadata": {
    "colab_type": "text",
    "id": "-57o4ij2v5Pw"
   },
   "source": [
    "## Ada Boost\n",
    "Creation of many models\n",
    "\n",
    "Methodology:\n",
    "1. Choose subset of training data randomly\n",
    "2. Train a model\n",
    "3. Find wrongly classified data with entire training data\n",
    "4. Train a new model with weighted help from wrongly classified data\n",
    "5. ...\n",
    "6. Predict with all models ensemble"
   ]
  },
  {
   "cell_type": "code",
   "execution_count": 0,
   "metadata": {
    "colab": {
     "autoexec": {
      "startup": false,
      "wait_interval": 0
     }
    },
    "colab_type": "code",
    "collapsed": true,
    "id": "johQWoqVwgZn"
   },
   "outputs": [],
   "source": []
  }
 ],
 "metadata": {
  "colab": {
   "default_view": {},
   "name": "Machine Learning 101.ipynb",
   "provenance": [],
   "version": "0.3.2",
   "views": {}
  },
  "kernelspec": {
   "display_name": "Python [default]",
   "language": "python",
   "name": "python2"
  },
  "language_info": {
   "codemirror_mode": {
    "name": "ipython",
    "version": 2
   },
   "file_extension": ".py",
   "mimetype": "text/x-python",
   "name": "python",
   "nbconvert_exporter": "python",
   "pygments_lexer": "ipython2",
   "version": "2.7.13"
  }
 },
 "nbformat": 4,
 "nbformat_minor": 1
}
